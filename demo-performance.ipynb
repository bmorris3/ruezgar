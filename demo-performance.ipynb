{
 "cells": [
  {
   "cell_type": "markdown",
   "id": "77b2c526-bdc8-4a03-8c52-9d07613044a4",
   "metadata": {},
   "source": [
    "### Goals\n",
    "\n",
    "0. We need to map velocities to the atmosphere somehow. what parameterizations are \"simple\"?\n",
    "\n",
    "  * fixed/solid body rotation\n",
    "  * differential rotation\n",
    "\n",
    "1. $K_p-v_{\\rm sys}$ diagram for a planet (for now we'll use a stellar spectrum) that is orbiting a star, with a velocity field in its atmosphere\n",
    "\n",
    "2. estimate the effect of a velocity field throughout the terminator on the transmission spectrum\n",
    "\n",
    "3. compare GCM velocity fields with observations (in transit transmission and in full-orbit CCFs)"
   ]
  },
  {
   "cell_type": "code",
   "execution_count": null,
   "id": "9f7a185d-68c0-4628-aa85-e3435a861bee",
   "metadata": {},
   "outputs": [],
   "source": [
    "%matplotlib inline\n",
    "\n",
    "import numpy as np\n",
    "import matplotlib.pyplot as plt\n",
    "import astropy.units as u\n",
    "from expecto import get_spectrum  # downloads phoenix model spectra\n",
    "from tqdm.auto import tqdm\n",
    "from ipywidgets import interactive\n",
    "from specutils import Spectrum1D"
   ]
  },
  {
   "cell_type": "markdown",
   "id": "7ccfb7d0-f4ef-45a0-b8b9-cb03e45babb4",
   "metadata": {},
   "source": [
    "Set up the lon ($\\phi$), lat ($\\theta$), and orbital phase ($\\xi$) grids:"
   ]
  },
  {
   "cell_type": "code",
   "execution_count": null,
   "id": "ee10dfa6-65c6-4b98-ada0-aabec5e4a8f0",
   "metadata": {},
   "outputs": [],
   "source": [
    "n_obs_per_orbit = 50\n",
    "\n",
    "n_lats = 7\n",
    "n_lons = 25\n",
    "phi = np.linspace(0, 2*np.pi, n_lons)\n",
    "\n",
    "lat_frac = 0.9\n",
    "theta = np.arcsin(np.linspace(-lat_frac, lat_frac, n_lats))\n",
    "\n",
    "xi = np.linspace(-np.pi, np.pi, n_obs_per_orbit)\n",
    "\n",
    "Rp = 1 * u.R_jup\n",
    "\n",
    "phi2d, theta2d = np.meshgrid(\n",
    "    phi, theta\n",
    ")\n",
    "\n",
    "phi3d, theta3d, xi3d = np.meshgrid(\n",
    "    phi, theta, xi\n",
    ")"
   ]
  },
  {
   "cell_type": "markdown",
   "id": "4c9344de-48de-43db-989d-e62f61e4f8bb",
   "metadata": {},
   "source": [
    "$$ v(\\phi, \\theta) = \\sin(\\theta) $$"
   ]
  },
  {
   "cell_type": "code",
   "execution_count": null,
   "id": "9b6872c6-6694-4bb2-ad78-6c1016f413e6",
   "metadata": {},
   "outputs": [],
   "source": [
    "x = Rp * np.cos(theta3d) * np.sin(phi3d)\n",
    "y = Rp * np.sin(theta3d)\n",
    "z = Rp * np.sin(theta3d) * np.sin(phi3d)\n",
    "\n",
    "dx = - np.sin(phi3d)\n",
    "dy = np.cos(phi3d)\n",
    "dz = np.zeros_like(phi3d)\n",
    "\n",
    "plt.scatter(x[..., 0].value.ravel(), y[..., 0].value.ravel(), c=-dx[..., 0].ravel())\n",
    "plt.colorbar()\n",
    "plt.gca().set(\n",
    "    xlabel='x', \n",
    "    ylabel='y'\n",
    ")\n",
    "plt.gca().set_aspect('equal')"
   ]
  },
  {
   "cell_type": "code",
   "execution_count": null,
   "id": "c42dba27-75c2-404a-9c81-d73d246bf456",
   "metadata": {},
   "outputs": [],
   "source": [
    "# download the phoenix model spectrum:\n",
    "spec_full = get_spectrum(2300, 5.0, cache=True)\n",
    "\n",
    "def spectral_binning(y, all_x, all_y):\n",
    "    \"\"\"\n",
    "    Spectral binning via trapezoidal approximation.\n",
    "    \"\"\"\n",
    "    min_ind = np.argwhere(all_y == y[0])[0, 0]\n",
    "    max_ind = np.argwhere(all_y == y[-1])[0, 0]\n",
    "    if max_ind > min_ind and y.shape == all_x[min_ind:max_ind + 1].shape:\n",
    "        return np.trapz(y, all_x[min_ind:max_ind + 1]) / (all_x[max_ind] - all_x[min_ind])\n",
    "    return np.nan\n",
    "\n",
    "def bin_spectrum(spectrum, bins=None, log=True, min=None, max=None, **kwargs):\n",
    "    \"\"\"\n",
    "    Bin a spectrum, with log-spaced frequency bins.\n",
    "\n",
    "    Parameters\n",
    "    ----------\n",
    "    spectrum : \n",
    "    log : bool\n",
    "        If true, compute bin edges based on the log base 10 of\n",
    "        the frequency.\n",
    "    bins : int or ~numpy.ndarray\n",
    "        Number of bins, or the bin edges\n",
    "\n",
    "    Returns\n",
    "    -------\n",
    "    new_spectrum : \n",
    "    \"\"\"\n",
    "    from scipy.stats import binned_statistic\n",
    "    \n",
    "    nirspec_wl_range = (spectrum.wavelength > min) & (spectrum.wavelength < max)\n",
    "    \n",
    "    wavelength = spectrum.wavelength[nirspec_wl_range]\n",
    "    flux = spectrum.flux[nirspec_wl_range]\n",
    "\n",
    "    if log:\n",
    "        wl_axis = np.log10(wavelength.to(u.um).value)\n",
    "    else:\n",
    "        wl_axis = wavelength.to(u.um).value\n",
    "\n",
    "    # Bin the power spectrum:\n",
    "    bs = binned_statistic(\n",
    "        wl_axis, flux.value,\n",
    "        statistic=lambda y: spectral_binning(\n",
    "            y, all_x=wl_axis, all_y=flux.value\n",
    "        ),\n",
    "        bins=bins\n",
    "    )\n",
    "    if log:\n",
    "        wl_bins = 10 ** (\n",
    "            0.5 * (bs.bin_edges[1:] + bs.bin_edges[:-1])\n",
    "        ) * u.um\n",
    "    else:\n",
    "        wl_bins = (\n",
    "            0.5 * (bs.bin_edges[1:] + bs.bin_edges[:-1])\n",
    "        ) * u.um\n",
    "    nans = np.isnan(bs.statistic)\n",
    "    interp_fluxes = bs.statistic.copy()\n",
    "    interp_fluxes[nans] = np.interp(wl_bins[nans], wl_bins[~nans], bs.statistic[~nans])\n",
    "    return Spectrum1D(flux=interp_fluxes * flux.unit, spectral_axis=wl_bins)\n",
    "\n",
    "minimum_wavelength, maximum_wavelength = 0.4*u.um, 0.8*u.um\n",
    "\n",
    "# bin the phoenix model spectrum\n",
    "spec = bin_spectrum(\n",
    "    spec_full, bins=10_000, \n",
    "    min=minimum_wavelength, max=maximum_wavelength, \n",
    "    log=False\n",
    ")\n",
    "\n",
    "flux_unit = spec.flux.unit\n",
    "wavelength = spec.wavelength\n",
    "\n",
    "# this assumes that the whole planet is emitting with the same spectrum, \n",
    "# and the observed differences are only due to the observer's frame of reference\n",
    "flux_cube = np.squeeze(spec.flux.to(flux_unit).value[:, None, None, None] * np.ones_like(x)[None, None, None, :])"
   ]
  },
  {
   "cell_type": "code",
   "execution_count": null,
   "id": "82e7c586-f314-4237-b832-a6ae65ebb20a",
   "metadata": {},
   "outputs": [],
   "source": [
    "plt.semilogy(spec_full.wavelength.to(u.um).value, spec_full.flux.to(flux_unit).value, ',')\n",
    "plt.semilogy(spec.wavelength.to(u.um).value, spec.flux.to(flux_unit).value)\n",
    "plt.xlim(spec.wavelength.min().to(u.um).value, spec.wavelength.max().to(u.um).value)\n",
    "plt.ylim(1e3, 1e14)\n",
    "plt.show()"
   ]
  },
  {
   "cell_type": "markdown",
   "id": "822cfbe2-1469-4962-ad4f-727d782c6a4c",
   "metadata": {},
   "source": [
    "The shape of the resulting `flux_cube` is (wavelength, lat, lon, time/phase): $N_\\lambda, N_\\theta, N_\\phi$, $N_\\xi$\n",
    "\n",
    "Now let's start with a fixed velocity map:"
   ]
  },
  {
   "cell_type": "code",
   "execution_count": null,
   "id": "cd27ca00-ac1d-4d14-9b85-f9aebdb78249",
   "metadata": {},
   "outputs": [],
   "source": [
    "orbital_period = 3 * u.day\n",
    "eq_rotation_velocity = (2 * np.pi * Rp / orbital_period).to(u.km/u.s)\n",
    "# eastward rotational velocity depends on latitude:\n",
    "rotation_velocity = eq_rotation_velocity * np.cos(theta3d)"
   ]
  },
  {
   "cell_type": "code",
   "execution_count": null,
   "id": "bfc2af3e-1032-4a67-b457-d2389e5ecdde",
   "metadata": {},
   "outputs": [],
   "source": [
    "eq_velocity = 100 * u.km/u.s\n",
    "pole_velocity = 5 * u.km/u.s\n",
    "alpha = float((eq_velocity - pole_velocity) / pole_velocity)\n",
    "\n",
    "# this is the variation of wind velocity with latitude, written in\n",
    "# the form often used to describe stellar differential rotation:\n",
    "differential_rotation = pole_velocity * (1 + alpha * np.cos(theta3d))\n",
    "\n",
    "# the velocity map will be asymmetric using this longitudinal scale factor:\n",
    "delta_phi = 0.4  # phase offset of the wind asymmetry\n",
    "asymmetry = 0.4  # asymmetry strength in units of fraction of differential rotation amplitude:\n",
    "\n",
    "velocity_map = (\n",
    "    differential_rotation * (1 + asymmetry * (np.sin(phi3d - delta_phi) - 1)) + \n",
    "    eq_rotation_velocity\n",
    ")\n",
    "\n",
    "radial_velocity_map = velocity_map * dx"
   ]
  },
  {
   "cell_type": "markdown",
   "id": "321e0562-3869-4fac-ab04-18a258b905b2",
   "metadata": {},
   "source": [
    "Compute the \"visibility\" of each spatial pixel on the sphere. `1` is a pixel viewed face-on, `0` is a pixel that is not visible."
   ]
  },
  {
   "cell_type": "code",
   "execution_count": null,
   "id": "3133eefc-8c71-4b36-b38a-1b72bb7be491",
   "metadata": {},
   "outputs": [],
   "source": [
    "# this visibility goes from (-1, 1)\n",
    "visibility_no_clipping = np.cos(phi3d - np.pi - xi) * np.sin(theta3d + np.pi/2)**2\n",
    "\n",
    "# this visibility has minimum = 0\n",
    "visibility = np.cos(phi3d - np.pi - xi) * np.sin(theta3d + np.pi/2)**2\n",
    "visibility[visibility < 0] = 0"
   ]
  },
  {
   "cell_type": "markdown",
   "id": "57a1dcfe-7220-4c72-a868-f4f9b121e859",
   "metadata": {},
   "source": [
    "Plot them all:"
   ]
  },
  {
   "cell_type": "code",
   "execution_count": null,
   "id": "f0a7f5a8-ffca-42c2-929c-31703bf2655f",
   "metadata": {},
   "outputs": [],
   "source": [
    "fig = plt.figure(figsize=(25, 3))\n",
    "\n",
    "viz_n_phases = 5\n",
    "for i in range(viz_n_phases):\n",
    "    axis = fig.add_subplot(100 + 10 * viz_n_phases + 1 + i, projection='mollweide')\n",
    "    cax = axis.pcolormesh(phi - np.pi, theta, visibility[..., int(i*len(xi) / viz_n_phases)])\n",
    "    #plt.colorbar(cax, ax=axis, label='visibility')\n",
    "fig.suptitle('Visibility over time, as the world turns')"
   ]
  },
  {
   "cell_type": "code",
   "execution_count": null,
   "id": "6817176f-fe9c-4ac1-a17f-a27c8de49e53",
   "metadata": {},
   "outputs": [],
   "source": [
    "xi_ind = len(xi)//2\n",
    "fig = plt.figure(figsize=(18, 3))\n",
    "ax0 = fig.add_subplot(131, projection='mollweide')\n",
    "ax1 = fig.add_subplot(132, projection='mollweide')\n",
    "ax2 = fig.add_subplot(133, projection='mollweide')\n",
    "cax = ax0.pcolormesh(phi - np.pi, theta, velocity_map[..., xi_ind], vmin=0)\n",
    "plt.colorbar(cax, ax=ax0, label='local eastward velocity [km/s]')\n",
    "cax = ax1.pcolormesh(phi - np.pi, theta, visibility[..., xi_ind], cmap=plt.cm.Greys_r)\n",
    "plt.colorbar(cax, ax=ax1, label='fractional visibility')\n",
    "vmin, vmax = np.array([-1, 1]) * 100\n",
    "cax = ax2.pcolormesh(phi - np.pi, theta, radial_velocity_map[..., xi_ind], cmap=plt.cm.RdBu_r, vmin=vmin, vmax=vmax)\n",
    "plt.colorbar(cax, ax=ax2, label='radial velocity [km/s]')\n",
    "\n",
    "cax = ax2.contour(phi - np.pi, theta, visibility[..., xi_ind], levels=[0.1, 0.3, 0.8], cmap=plt.cm.Greys_r)\n",
    "\n",
    "ax0.set_title('eastward velocity + rotation')\n",
    "ax1.set_title('visibility')\n",
    "ax2.set_title('map=radial velocity;\\ncontour=visibility')\n",
    "plt.show()"
   ]
  },
  {
   "cell_type": "markdown",
   "id": "163c17a0-a5ab-4764-aebc-299fdb5ceec0",
   "metadata": {},
   "source": [
    "Now for each spatial pixel on the sphere in $\\theta, \\phi$, compute the redshifts/blueshifts for each wavelength at each pixel:"
   ]
  },
  {
   "cell_type": "code",
   "execution_count": null,
   "id": "870d281e-7377-4837-b4d0-d4dadf6a131b",
   "metadata": {},
   "outputs": [],
   "source": [
    "wavelength_cube = radial_velocity_map[None, ...].to(u.nm, u.doppler_optical(wavelength[:, None, None, None]))"
   ]
  },
  {
   "cell_type": "markdown",
   "id": "ee44c2b8-ede4-4c3d-a7ed-c1c150fde606",
   "metadata": {},
   "source": [
    "Take the flux cube (wave, lat, lon) and scale it by the visibility of each spatial pixel on the sphere:"
   ]
  },
  {
   "cell_type": "code",
   "execution_count": null,
   "id": "ca6510e8-c8a4-4d1d-94bd-a04a586f06a7",
   "metadata": {},
   "outputs": [],
   "source": [
    "weighted_flux_cube = flux_cube * visibility[None, ...] # weighting the spectrum by the visibility"
   ]
  },
  {
   "cell_type": "markdown",
   "id": "fe3d93f1-f393-4acd-851b-28c6390b62f5",
   "metadata": {},
   "source": [
    "The weighted flux cube has doppler shifted wavelengths, but the observer only sees a single set of wavelengths (named here `wavelength`). Let's interpolate the doppler shifted spectra onto each observer-frame wavelength, at each spatial pixel:"
   ]
  },
  {
   "cell_type": "code",
   "execution_count": null,
   "id": "434c1f3c-1ab6-4fb2-9593-5e6328d632b0",
   "metadata": {},
   "outputs": [],
   "source": [
    "shifted_weighted_flux_cube = np.empty(weighted_flux_cube.shape)\n",
    "new_shape = (weighted_flux_cube.shape[0], np.prod(weighted_flux_cube.shape[1:-1]))\n",
    "\n",
    "for j in tqdm(range(len(xi))):\n",
    "    # We're going to take the 3D cube, and make it 2D temporarily so we can interpolate efficiently:\n",
    "    wavelength_cube_j = wavelength_cube[..., j].reshape(new_shape)\n",
    "    shifted_weighted_flux_cube_j = np.empty(new_shape)\n",
    "    weighted_flux_cube_j = weighted_flux_cube[..., j].reshape(new_shape)\n",
    "    # loop over the (now single) spatial dimension and interpolate in the wavelength dimension\n",
    "    for i in range(shifted_weighted_flux_cube_j.shape[1]):\n",
    "        shifted_weighted_flux_cube_j[:, i] = np.interp(\n",
    "            wavelength.to(u.um).value, \n",
    "            wavelength_cube_j[:, i].to(u.um).value, \n",
    "            weighted_flux_cube_j[:, i].value\n",
    "        )\n",
    "    shifted_weighted_flux_cube[..., j] = shifted_weighted_flux_cube_j.reshape(weighted_flux_cube.shape[:-1])"
   ]
  },
  {
   "cell_type": "code",
   "execution_count": null,
   "id": "e5ea08d3-4edb-4001-ac14-7ff86c639734",
   "metadata": {},
   "outputs": [],
   "source": [
    "# the observed spectrum of the visible hemisphere, as a function of time, is: \n",
    "observed_spectrum = shifted_weighted_flux_cube.sum(axis=(1, 2))  # in un-normalized units"
   ]
  },
  {
   "cell_type": "code",
   "execution_count": null,
   "id": "5509961a-c929-40cc-9f7c-dbc0f6d8ab0b",
   "metadata": {},
   "outputs": [],
   "source": [
    "# this normalization factor shifts a single spatial element's spectrum up to the same scale\n",
    "# as the observed spectrum of a full hemisphere:\n",
    "norm = spec.flux.max() / observed_spectrum.max()\n",
    "plt.semilogy(wavelength, spec.flux / norm, label='intrinsic local spectrum')\n",
    "plt.plot(\n",
    "    wavelength, observed_spectrum[:, 0], \n",
    "    label=f'full-disk spectrum at $\\\\xi = {xi[0]:.1f}$'\n",
    ")\n",
    "plt.plot(\n",
    "    wavelength, observed_spectrum[:, observed_spectrum.shape[1]//2], \n",
    "    label=f'full-disk spectrum at $\\\\xi = {xi[observed_spectrum.shape[1]//2]:.1f}$'\n",
    ")\n",
    "plt.legend()"
   ]
  },
  {
   "cell_type": "markdown",
   "id": "e6fffe89-6f56-48b1-a38c-85ce4df5c89e",
   "metadata": {},
   "source": [
    "Find the latitudinally averaged radial velocity on the terminator to identify the velocity shifts of the transmission spectrum on the limb at ingress and egress"
   ]
  },
  {
   "cell_type": "code",
   "execution_count": null,
   "id": "3f263c46-cd56-4785-909f-db969320e2aa",
   "metadata": {},
   "outputs": [],
   "source": [
    "# the \"approaching\" terminator is where the visibility goes \n",
    "# from negative to positive. this is the limb that is\n",
    "# rotating towards the observer\n",
    "mean_radvel_on_terminator_approaching = np.take_along_axis(\n",
    "    radial_velocity_map.mean(axis=0)[:, :-1], \n",
    "    lon_indicies_maxs[None, :], \n",
    "    axis=0\n",
    ")[0]\n",
    "\n",
    "# the \"receding\" terminator is where the visibility goes \n",
    "# from positive to negative. this is the limb that is\n",
    "# rotating away from the observer\n",
    "mean_radvel_on_terminator_receding = np.take_along_axis(\n",
    "    radial_velocity_map.mean(axis=0)[:, :-1], \n",
    "    lon_indicies_mins[None, :], \n",
    "    axis=0\n",
    ")[0]\n",
    "\n",
    "plt.plot(xi[:-1], mean_radvel_on_terminator_approaching, label='approaching')\n",
    "plt.plot(xi[:-1], mean_radvel_on_terminator_receding, label='receding')\n",
    "plt.gca().set(\n",
    "    xlabel='orbital phase [rad]',\n",
    "    ylabel='radial velocity at terminator\\n(all latitudes) [km/s]',\n",
    ")\n",
    "plt.legend();"
   ]
  },
  {
   "cell_type": "code",
   "execution_count": null,
   "id": "e89334ae-b2ed-4be5-91d6-5de1197e3d42",
   "metadata": {},
   "outputs": [],
   "source": [
    "def spec_interact(phase, wl_zoom):\n",
    "    ind = int(phase/360 * len(xi))\n",
    "    fig = plt.figure(figsize=(11, 7))\n",
    "    ax1 = fig.add_subplot(331, projection='mollweide')\n",
    "    ax6 = fig.add_subplot(334, projection='mollweide')\n",
    "    ax2 = fig.add_subplot(332)\n",
    "    ax3 = fig.add_subplot(335)\n",
    "    ax4 = fig.add_subplot(333)\n",
    "    ax5 = fig.add_subplot(336)\n",
    "    ax0 = fig.add_subplot(337, projection='mollweide')\n",
    "    ax7 = fig.add_subplot(338)\n",
    "\n",
    "    cax = ax1.pcolormesh(phi - np.pi, theta, radial_velocity_map[..., ind])\n",
    "    plt.colorbar(cax, ax=ax1, label='velocity [km/s]')\n",
    "    \n",
    "    cax = ax6.pcolormesh(phi - np.pi, theta, visibility[..., ind], cmap=plt.cm.Greys_r)\n",
    "    plt.colorbar(cax, ax=ax6, label='fractional visibility')\n",
    "    cax = ax0.pcolormesh(phi - np.pi, theta, radial_velocity_map[..., ind], cmap=plt.cm.RdBu_r)\n",
    "    plt.colorbar(cax, ax=ax0, label='velocity [km/s]')\n",
    "\n",
    "    # cax = ax1.contour(phi - np.pi, theta, visibility[..., ind], levels=[0.1, 0.3, 0.8], cmap=plt.cm.Greys_r)\n",
    "    ax1.set_title('wind + rotation')\n",
    "    ax6.set_title('visibility')\n",
    "    ax0.set_title('radial velocity')\n",
    "\n",
    "    norm = spec.flux.max() / observed_spectrum.max()\n",
    "    for axis, pl in zip([ax2, ax3], ['semilogy', 'plot']):\n",
    "        getattr(axis, pl)(wavelength, spec.flux / norm, label='intrinsic local spectrum')\n",
    "        getattr(axis, pl)(wavelength, observed_spectrum[:, ind], \n",
    "            label=f'full-disk spectrum at $\\\\xi = {xi[ind]:.1f}$'\n",
    "        )\n",
    "    ax2.legend(loc=[0, 1])\n",
    "    \n",
    "    for axis in [ax4, ax5]:\n",
    "        axis.plot(wavelength, \n",
    "            observed_spectrum[:, ind] / observed_spectrum.mean(axis=1) - 1, \n",
    "            label='intrinsic local spectrum'\n",
    "        )\n",
    "\n",
    "    \n",
    "    for axis in [ax2, ax3]:\n",
    "        axis.set(\n",
    "            xlabel='Wavelength [Angstrom]',\n",
    "            ylabel=f'Flux [{flux_unit.to_string(format=\"latex\")}]'\n",
    "        )\n",
    "    for axis in [ax4, ax5]:\n",
    "        axis.set(\n",
    "            xlabel='Wavelength [Angstrom]',\n",
    "            ylabel=f'flux relative to mean'\n",
    "        )\n",
    "\n",
    "\n",
    "    delta_x = 150\n",
    "    zoom_x_inds = [wl_zoom, wl_zoom+delta_x]\n",
    "    zoom_x = spec.wavelength[zoom_x_inds].value\n",
    "    ys = observed_spectrum[zoom_x_inds[0]:zoom_x_inds[1], ind]\n",
    "    zoom_y = [0.8 * ys.min(), 1.2 * ys.max()]\n",
    "    for axis in [ax2, ax4]:\n",
    "        axis.axvspan(*zoom_x, alpha=0.2, color='gray')\n",
    "    ax3.set_xlim(zoom_x)\n",
    "    ax3.set_ylim(zoom_y)\n",
    "    ax5.set_xlim(zoom_x)\n",
    "    ax5.set_ylim(-1, 1)\n",
    "    \n",
    "    terminators = [\n",
    "        mean_radvel_on_terminator_approaching, \n",
    "        mean_radvel_on_terminator_receding\n",
    "    ]\n",
    "    labels = ['approach', 'receding']\n",
    "    for terminator, label in zip(terminators, labels):\n",
    "        ax7.plot(xi[:-1], terminator, label=label)\n",
    "    ax7.axvline(xi[ind], color='k', ls='--')\n",
    "    ax7.set(\n",
    "        xlabel='phase $\\\\xi$ [rad]',\n",
    "        ylabel='mean radvel at\\nterminator [km/s]'\n",
    "    )\n",
    "    ax7.legend()\n",
    "    fig.tight_layout()\n",
    "    \n",
    "print(\n",
    "    'Vary orbital phase of the planet (degrees) to see the \\nvisible hemisphere change'\n",
    "    ', and see the evolution\\nof the observed spectrum on the right:\\n\\n'\n",
    ")\n",
    "step = int(360/len(xi))\n",
    "interactive_plot = interactive(\n",
    "    spec_interact, \n",
    "    phase=(0, 360 - step, step),\n",
    "    wl_zoom=(0, len(spec.wavelength), 100)\n",
    ")\n",
    "output = interactive_plot.children[-1]\n",
    "interactive_plot"
   ]
  },
  {
   "cell_type": "code",
   "execution_count": null,
   "id": "499804ce-794f-42ce-8f4a-56dd2b31fa67",
   "metadata": {},
   "outputs": [],
   "source": []
  }
 ],
 "metadata": {
  "kernelspec": {
   "display_name": "Python 3 (ipykernel)",
   "language": "python",
   "name": "python3"
  },
  "language_info": {
   "codemirror_mode": {
    "name": "ipython",
    "version": 3
   },
   "file_extension": ".py",
   "mimetype": "text/x-python",
   "name": "python",
   "nbconvert_exporter": "python",
   "pygments_lexer": "ipython3",
   "version": "3.9.13"
  }
 },
 "nbformat": 4,
 "nbformat_minor": 5
}
