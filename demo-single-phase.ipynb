{
 "cells": [
  {
   "cell_type": "markdown",
   "id": "77b2c526-bdc8-4a03-8c52-9d07613044a4",
   "metadata": {},
   "source": [
    "### Goals\n",
    "\n",
    "0. We need to map velocities to the atmosphere somehow. what parameterizations are \"simple\"?\n",
    "\n",
    "  * fixed/solid body rotation\n",
    "  * differential rotation\n",
    "\n",
    "1. $K_p-v_{\\rm sys}$ diagram for a planet (for now we'll use a stellar spectrum) that is orbiting a star, with a velocity field in its atmosphere\n",
    "\n",
    "2. estimate the effect of a velocity field throughout the terminator on the transmission spectrum\n",
    "\n",
    "3. compare GCM velocity fields with observations (in transit transmission and in full-orbit CCFs)"
   ]
  },
  {
   "cell_type": "code",
   "execution_count": null,
   "id": "9f7a185d-68c0-4628-aa85-e3435a861bee",
   "metadata": {},
   "outputs": [],
   "source": [
    "%matplotlib inline\n",
    "\n",
    "import astropy.units as u\n",
    "import matplotlib.pyplot as plt\n",
    "from astropy.modeling.models import BlackBody\n",
    "from expecto import get_spectrum\n",
    "import numpy as np"
   ]
  },
  {
   "cell_type": "markdown",
   "id": "7ccfb7d0-f4ef-45a0-b8b9-cb03e45babb4",
   "metadata": {},
   "source": [
    "Set up the lon ($\\phi$) and lat ($\\theta$) grids:"
   ]
  },
  {
   "cell_type": "code",
   "execution_count": null,
   "id": "ee10dfa6-65c6-4b98-ada0-aabec5e4a8f0",
   "metadata": {},
   "outputs": [],
   "source": [
    "n_lats = 7\n",
    "n_lons = 25\n",
    "phi = np.linspace(0, 2*np.pi, n_lons)\n",
    "\n",
    "lat_frac = 0.9\n",
    "theta = np.arcsin(np.linspace(-lat_frac, lat_frac, n_lats))\n",
    "\n",
    "Rp = 1 * u.R_jup\n",
    "\n",
    "phi2d, theta2d = np.meshgrid(\n",
    "    phi, theta, \n",
    ")"
   ]
  },
  {
   "cell_type": "markdown",
   "id": "4c9344de-48de-43db-989d-e62f61e4f8bb",
   "metadata": {},
   "source": [
    "$$ v(\\phi, \\theta) = \\sin(\\theta) $$"
   ]
  },
  {
   "cell_type": "code",
   "execution_count": null,
   "id": "9b6872c6-6694-4bb2-ad78-6c1016f413e6",
   "metadata": {},
   "outputs": [],
   "source": [
    "colat_to_lat = 0 #- np.pi / 2\n",
    "delta_phi = 0 \n",
    "x = Rp * np.cos(theta2d) * np.sin(phi2d)\n",
    "y = Rp * np.sin(theta2d)\n",
    "z = Rp * np.sin(theta2d) * np.sin(phi2d) #* np.sign(theta2d + colat_to_lat)\n",
    "\n",
    "dx = - np.sin(phi2d - delta_phi)\n",
    "dy = np.cos(phi2d)\n",
    "dz = np.zeros_like(phi2d)\n",
    "\n",
    "plt.scatter(x.value.ravel(), y.value.ravel(), c=-dx.ravel())\n",
    "plt.colorbar()\n",
    "plt.gca().set(\n",
    "    xlabel='x', \n",
    "    ylabel='y'\n",
    ")\n",
    "plt.gca().set_aspect('equal')"
   ]
  },
  {
   "cell_type": "code",
   "execution_count": null,
   "id": "c42dba27-75c2-404a-9c81-d73d246bf456",
   "metadata": {},
   "outputs": [],
   "source": [
    "from specutils import SpectralRegion, Spectrum1D\n",
    "from specutils.manipulation import extract_region\n",
    "spec = get_spectrum(2300, 5.0, cache=True)"
   ]
  },
  {
   "cell_type": "code",
   "execution_count": null,
   "id": "01490674-fd67-4d71-bfc2-3c5f962f0096",
   "metadata": {},
   "outputs": [],
   "source": [
    "minimum, maximum = 0.4*u.um, 0.402*u.um\n",
    "\n",
    "mask = (\n",
    "    (spec.wavelength > minimum) & \n",
    "    (spec.wavelength < maximum)\n",
    ")\n",
    "\n",
    "wavelength = spec.wavelength[mask]\n",
    "flux_cube = np.squeeze(spec.flux[mask][:, None, None] * np.ones_like(x)[None, None, :])\n",
    "\n",
    "print(flux_cube.shape)"
   ]
  },
  {
   "cell_type": "markdown",
   "id": "822cfbe2-1469-4962-ad4f-727d782c6a4c",
   "metadata": {},
   "source": [
    "The shape of the resulting `flux_cube` is (wavelength, lat, lon): $N_\\lambda, N_\\theta, N_\\phi$\n",
    "\n",
    "Now let's start with a fixed velocity map:"
   ]
  },
  {
   "cell_type": "code",
   "execution_count": null,
   "id": "bfc2af3e-1032-4a67-b457-d2389e5ecdde",
   "metadata": {},
   "outputs": [],
   "source": [
    "eq_velocity = 100 * u.km/u.s\n",
    "pole_velocity = 5 * u.km/u.s\n",
    "alpha = float((eq_velocity - pole_velocity) / pole_velocity)\n",
    "\n",
    "# this is the variation of wind velocity with latitude, written in\n",
    "# the form often used to describe stellar differential rotation:\n",
    "velocity_map = pole_velocity * (1 + alpha * np.cos(theta2d))\n",
    "radial_velocity_map = velocity_map * -dx\n",
    "\n",
    "# here's the velocity map with latitude:\n",
    "plt.plot(np.degrees(theta), velocity_map[:, 0]);\n",
    "plt.gca().set(\n",
    "    xlabel='lat',\n",
    "    ylabel='local velocity [km/s]'\n",
    ");"
   ]
  },
  {
   "cell_type": "markdown",
   "id": "321e0562-3869-4fac-ab04-18a258b905b2",
   "metadata": {},
   "source": [
    "Compute the \"visibility\" of each spatial pixel on the sphere. `1` is a pixel viewed face-on, `0` is a pixel that is not visible."
   ]
  },
  {
   "cell_type": "code",
   "execution_count": null,
   "id": "3133eefc-8c71-4b36-b38a-1b72bb7be491",
   "metadata": {},
   "outputs": [],
   "source": [
    "visibility = np.cos(phi2d - np.pi) * np.sin(theta2d + np.pi/2)**2\n",
    "visibility[visibility < 0] = 0"
   ]
  },
  {
   "cell_type": "markdown",
   "id": "57a1dcfe-7220-4c72-a868-f4f9b121e859",
   "metadata": {},
   "source": [
    "Plot them all:"
   ]
  },
  {
   "cell_type": "code",
   "execution_count": null,
   "id": "6817176f-fe9c-4ac1-a17f-a27c8de49e53",
   "metadata": {},
   "outputs": [],
   "source": [
    "fig = plt.figure(figsize=(20, 4))\n",
    "ax0 = fig.add_subplot(131, projection='mollweide')\n",
    "ax1 = fig.add_subplot(132, projection='mollweide')\n",
    "ax2 = fig.add_subplot(133, projection='mollweide')\n",
    "cax = ax0.pcolormesh(phi - np.pi, theta, velocity_map)\n",
    "plt.colorbar(cax, ax=ax0, label='local velocity [km/s]')\n",
    "cax = ax1.pcolormesh(phi - np.pi, theta, visibility)\n",
    "plt.colorbar(cax, ax=ax1, label='fractional visibility')\n",
    "cax = ax2.pcolormesh(phi - np.pi, theta, radial_velocity_map)\n",
    "plt.colorbar(cax, ax=ax2, label='radial velocity [km/s]')\n",
    "\n",
    "cax = ax2.contour(phi - np.pi, theta, visibility, levels=[0.1, 0.3, 0.8], cmap=plt.cm.Greys_r)\n",
    "\n",
    "ax0.set_title('local velocity')\n",
    "ax1.set_title('visibility')\n",
    "ax2.set_title('map=radial velocity;\\ncontour=visibility')\n",
    "plt.show()"
   ]
  },
  {
   "cell_type": "markdown",
   "id": "163c17a0-a5ab-4764-aebc-299fdb5ceec0",
   "metadata": {},
   "source": [
    "Now for each spatial pixel on the sphere in $\\theta, \\phi$, compute the redshifts/blueshifts for each wavelength at each pixel:"
   ]
  },
  {
   "cell_type": "code",
   "execution_count": null,
   "id": "870d281e-7377-4837-b4d0-d4dadf6a131b",
   "metadata": {},
   "outputs": [],
   "source": [
    "wavelength_cube = radial_velocity_map[None, ...].to(u.nm, u.doppler_optical(wavelength[:, None, None]))"
   ]
  },
  {
   "cell_type": "markdown",
   "id": "ee44c2b8-ede4-4c3d-a7ed-c1c150fde606",
   "metadata": {},
   "source": [
    "Take the flux cube (wave, lat, lon) and scale it by the visibility of each spatial pixel on the sphere:"
   ]
  },
  {
   "cell_type": "code",
   "execution_count": null,
   "id": "ca6510e8-c8a4-4d1d-94bd-a04a586f06a7",
   "metadata": {},
   "outputs": [],
   "source": [
    "weighted_flux_cube = flux_cube * visibility[None, ...] # weighting the spectrum by the visibility"
   ]
  },
  {
   "cell_type": "markdown",
   "id": "fe3d93f1-f393-4acd-851b-28c6390b62f5",
   "metadata": {},
   "source": [
    "The weighted flux cube has doppler shifted wavelengths, but the observer only sees a single set of wavelengths (named here `wavelength`). Let's interpolate the doppler shifted spectra onto each observer-frame wavelength, at each spatial pixel:"
   ]
  },
  {
   "cell_type": "code",
   "execution_count": null,
   "id": "434c1f3c-1ab6-4fb2-9593-5e6328d632b0",
   "metadata": {},
   "outputs": [],
   "source": [
    "# We're going to take the 3D cube, and make it 2D temporarily so we can interpolate efficiently:\n",
    "new_shape = (weighted_flux_cube.shape[0], np.prod(weighted_flux_cube.shape[1:]))\n",
    "\n",
    "# loop over the (now single) spatial dimension and interpolate in the wavelength dimension\n",
    "shifted_weighted_flux_cube = np.empty(new_shape)\n",
    "for i in range(shifted_weighted_flux_cube.shape[1]):\n",
    "    shifted_weighted_flux_cube[:, i] = np.interp(\n",
    "        wavelength.to(u.um).value, \n",
    "        wavelength_cube.reshape(new_shape)[:, i].to(u.um).value, \n",
    "        weighted_flux_cube.reshape(new_shape)[:, i].value\n",
    "    )\n",
    "\n",
    "# now put the result back into the 3D shape (wave, lat, lon):\n",
    "shifted_weighted_flux_cube = shifted_weighted_flux_cube.reshape(weighted_flux_cube.shape)"
   ]
  },
  {
   "cell_type": "code",
   "execution_count": null,
   "id": "e5ea08d3-4edb-4001-ac14-7ff86c639734",
   "metadata": {},
   "outputs": [],
   "source": [
    "# the observed spectrum of the visible hemisphere is: \n",
    "observed_spectrum = shifted_weighted_flux_cube.sum(axis=(1, 2))"
   ]
  },
  {
   "cell_type": "code",
   "execution_count": null,
   "id": "5509961a-c929-40cc-9f7c-dbc0f6d8ab0b",
   "metadata": {},
   "outputs": [],
   "source": [
    "# this normalization factor shifts a single spatial element's spectrum up to the same scale\n",
    "# as the observed spectrum of a full hemisphere:\n",
    "norm = spec.flux[mask].max() / observed_spectrum.max()\n",
    "plt.plot(wavelength, spec.flux[mask] / norm, label='intrinsic local spectrum')\n",
    "plt.plot(wavelength, observed_spectrum, label='observed hemispheric spectrum')\n",
    "plt.legend()"
   ]
  },
  {
   "cell_type": "code",
   "execution_count": null,
   "id": "e89334ae-b2ed-4be5-91d6-5de1197e3d42",
   "metadata": {},
   "outputs": [],
   "source": []
  },
  {
   "cell_type": "code",
   "execution_count": null,
   "id": "0c892f41-b333-4ab4-abe6-54caec46dfe2",
   "metadata": {},
   "outputs": [],
   "source": []
  },
  {
   "cell_type": "code",
   "execution_count": null,
   "id": "34decc92-4f7e-451d-af4d-c0ed19c04295",
   "metadata": {},
   "outputs": [],
   "source": []
  },
  {
   "cell_type": "code",
   "execution_count": null,
   "id": "5badd662-12c5-4251-9eba-e742f7578b7a",
   "metadata": {},
   "outputs": [],
   "source": []
  }
 ],
 "metadata": {
  "kernelspec": {
   "display_name": "Python 3 (ipykernel)",
   "language": "python",
   "name": "python3"
  },
  "language_info": {
   "codemirror_mode": {
    "name": "ipython",
    "version": 3
   },
   "file_extension": ".py",
   "mimetype": "text/x-python",
   "name": "python",
   "nbconvert_exporter": "python",
   "pygments_lexer": "ipython3",
   "version": "3.9.13"
  }
 },
 "nbformat": 4,
 "nbformat_minor": 5
}
